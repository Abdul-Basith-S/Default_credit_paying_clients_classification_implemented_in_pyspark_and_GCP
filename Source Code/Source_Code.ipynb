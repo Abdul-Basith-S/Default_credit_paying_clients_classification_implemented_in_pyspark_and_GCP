{
 "cells": [
  {
   "cell_type": "markdown",
   "metadata": {},
   "source": [
    "### Creating spark session and loading dataset"
   ]
  },
  {
   "cell_type": "code",
   "execution_count": 1,
   "metadata": {},
   "outputs": [],
   "source": [
    "from pyspark.sql import SparkSession\n",
    "\n",
    "spark = SparkSession \\\n",
    "    .builder \\\n",
    "    .appName(\"Final_Project\") \\\n",
    "    .config(\"spark.some.config.option\", \"some-value\") \\\n",
    "    .getOrCreate()"
   ]
  },
  {
   "cell_type": "code",
   "execution_count": 2,
   "metadata": {},
   "outputs": [],
   "source": [
    "credit = spark.read.load(\"data/ccdefault.csv\",format=\"csv\", sep=\",\", inferSchema=\"true\", header=\"true\")"
   ]
  },
  {
   "cell_type": "markdown",
   "metadata": {},
   "source": [
    "### Data exploration"
   ]
  },
  {
   "cell_type": "markdown",
   "metadata": {},
   "source": [
    "#### Let's look at the schema of the data, see the total number of instances, look at the top 5 rows of the dataset and finaly see the summary of the whole dataset."
   ]
  },
  {
   "cell_type": "code",
   "execution_count": 3,
   "metadata": {},
   "outputs": [
    {
     "name": "stdout",
     "output_type": "stream",
     "text": [
      "root\n",
      " |-- ID: integer (nullable = true)\n",
      " |-- LIMIT_BAL: integer (nullable = true)\n",
      " |-- SEX: integer (nullable = true)\n",
      " |-- EDUCATION: integer (nullable = true)\n",
      " |-- MARRIAGE: integer (nullable = true)\n",
      " |-- AGE: integer (nullable = true)\n",
      " |-- PAY_0: integer (nullable = true)\n",
      " |-- PAY_2: integer (nullable = true)\n",
      " |-- PAY_3: integer (nullable = true)\n",
      " |-- PAY_4: integer (nullable = true)\n",
      " |-- PAY_5: integer (nullable = true)\n",
      " |-- PAY_6: integer (nullable = true)\n",
      " |-- BILL_AMT1: integer (nullable = true)\n",
      " |-- BILL_AMT2: integer (nullable = true)\n",
      " |-- BILL_AMT3: integer (nullable = true)\n",
      " |-- BILL_AMT4: integer (nullable = true)\n",
      " |-- BILL_AMT5: integer (nullable = true)\n",
      " |-- BILL_AMT6: integer (nullable = true)\n",
      " |-- PAY_AMT1: integer (nullable = true)\n",
      " |-- PAY_AMT2: integer (nullable = true)\n",
      " |-- PAY_AMT3: integer (nullable = true)\n",
      " |-- PAY_AMT4: integer (nullable = true)\n",
      " |-- PAY_AMT5: integer (nullable = true)\n",
      " |-- PAY_AMT6: integer (nullable = true)\n",
      " |-- DEFAULT: integer (nullable = true)\n",
      "\n"
     ]
    }
   ],
   "source": [
    "credit.printSchema()"
   ]
  },
  {
   "cell_type": "code",
   "execution_count": 4,
   "metadata": {},
   "outputs": [
    {
     "data": {
      "text/plain": [
       "30000"
      ]
     },
     "execution_count": 4,
     "metadata": {},
     "output_type": "execute_result"
    }
   ],
   "source": [
    "credit.count()"
   ]
  },
  {
   "cell_type": "markdown",
   "metadata": {},
   "source": [
    "The dataset has a total of 30,000 instances/entries"
   ]
  },
  {
   "cell_type": "code",
   "execution_count": 5,
   "metadata": {},
   "outputs": [
    {
     "data": {
      "text/plain": [
       "[Row(ID=1, LIMIT_BAL=20000, SEX=2, EDUCATION=2, MARRIAGE=1, AGE=24, PAY_0=2, PAY_2=2, PAY_3=-1, PAY_4=-1, PAY_5=-2, PAY_6=-2, BILL_AMT1=3913, BILL_AMT2=3102, BILL_AMT3=689, BILL_AMT4=0, BILL_AMT5=0, BILL_AMT6=0, PAY_AMT1=0, PAY_AMT2=689, PAY_AMT3=0, PAY_AMT4=0, PAY_AMT5=0, PAY_AMT6=0, DEFAULT=1),\n",
       " Row(ID=2, LIMIT_BAL=120000, SEX=2, EDUCATION=2, MARRIAGE=2, AGE=26, PAY_0=-1, PAY_2=2, PAY_3=0, PAY_4=0, PAY_5=0, PAY_6=2, BILL_AMT1=2682, BILL_AMT2=1725, BILL_AMT3=2682, BILL_AMT4=3272, BILL_AMT5=3455, BILL_AMT6=3261, PAY_AMT1=0, PAY_AMT2=1000, PAY_AMT3=1000, PAY_AMT4=1000, PAY_AMT5=0, PAY_AMT6=2000, DEFAULT=1),\n",
       " Row(ID=3, LIMIT_BAL=90000, SEX=2, EDUCATION=2, MARRIAGE=2, AGE=34, PAY_0=0, PAY_2=0, PAY_3=0, PAY_4=0, PAY_5=0, PAY_6=0, BILL_AMT1=29239, BILL_AMT2=14027, BILL_AMT3=13559, BILL_AMT4=14331, BILL_AMT5=14948, BILL_AMT6=15549, PAY_AMT1=1518, PAY_AMT2=1500, PAY_AMT3=1000, PAY_AMT4=1000, PAY_AMT5=1000, PAY_AMT6=5000, DEFAULT=0),\n",
       " Row(ID=4, LIMIT_BAL=50000, SEX=2, EDUCATION=2, MARRIAGE=1, AGE=37, PAY_0=0, PAY_2=0, PAY_3=0, PAY_4=0, PAY_5=0, PAY_6=0, BILL_AMT1=46990, BILL_AMT2=48233, BILL_AMT3=49291, BILL_AMT4=28314, BILL_AMT5=28959, BILL_AMT6=29547, PAY_AMT1=2000, PAY_AMT2=2019, PAY_AMT3=1200, PAY_AMT4=1100, PAY_AMT5=1069, PAY_AMT6=1000, DEFAULT=0),\n",
       " Row(ID=5, LIMIT_BAL=50000, SEX=1, EDUCATION=2, MARRIAGE=1, AGE=57, PAY_0=-1, PAY_2=0, PAY_3=-1, PAY_4=0, PAY_5=0, PAY_6=0, BILL_AMT1=8617, BILL_AMT2=5670, BILL_AMT3=35835, BILL_AMT4=20940, BILL_AMT5=19146, BILL_AMT6=19131, PAY_AMT1=2000, PAY_AMT2=36681, PAY_AMT3=10000, PAY_AMT4=9000, PAY_AMT5=689, PAY_AMT6=679, DEFAULT=0)]"
      ]
     },
     "execution_count": 5,
     "metadata": {},
     "output_type": "execute_result"
    }
   ],
   "source": [
    "credit.take(5)"
   ]
  },
  {
   "cell_type": "markdown",
   "metadata": {},
   "source": [
    "Since it is quite difficult to interpret let's convert it to a pandas dataframe and look at the top 5 rows."
   ]
  },
  {
   "cell_type": "code",
   "execution_count": 6,
   "metadata": {},
   "outputs": [
    {
     "data": {
      "text/html": [
       "<div>\n",
       "<style scoped>\n",
       "    .dataframe tbody tr th:only-of-type {\n",
       "        vertical-align: middle;\n",
       "    }\n",
       "\n",
       "    .dataframe tbody tr th {\n",
       "        vertical-align: top;\n",
       "    }\n",
       "\n",
       "    .dataframe thead th {\n",
       "        text-align: right;\n",
       "    }\n",
       "</style>\n",
       "<table border=\"1\" class=\"dataframe\">\n",
       "  <thead>\n",
       "    <tr style=\"text-align: right;\">\n",
       "      <th></th>\n",
       "      <th>ID</th>\n",
       "      <th>LIMIT_BAL</th>\n",
       "      <th>SEX</th>\n",
       "      <th>EDUCATION</th>\n",
       "      <th>MARRIAGE</th>\n",
       "      <th>AGE</th>\n",
       "      <th>PAY_0</th>\n",
       "      <th>PAY_2</th>\n",
       "      <th>PAY_3</th>\n",
       "      <th>PAY_4</th>\n",
       "      <th>...</th>\n",
       "      <th>BILL_AMT4</th>\n",
       "      <th>BILL_AMT5</th>\n",
       "      <th>BILL_AMT6</th>\n",
       "      <th>PAY_AMT1</th>\n",
       "      <th>PAY_AMT2</th>\n",
       "      <th>PAY_AMT3</th>\n",
       "      <th>PAY_AMT4</th>\n",
       "      <th>PAY_AMT5</th>\n",
       "      <th>PAY_AMT6</th>\n",
       "      <th>DEFAULT</th>\n",
       "    </tr>\n",
       "  </thead>\n",
       "  <tbody>\n",
       "    <tr>\n",
       "      <th>0</th>\n",
       "      <td>1</td>\n",
       "      <td>20000</td>\n",
       "      <td>2</td>\n",
       "      <td>2</td>\n",
       "      <td>1</td>\n",
       "      <td>24</td>\n",
       "      <td>2</td>\n",
       "      <td>2</td>\n",
       "      <td>-1</td>\n",
       "      <td>-1</td>\n",
       "      <td>...</td>\n",
       "      <td>0</td>\n",
       "      <td>0</td>\n",
       "      <td>0</td>\n",
       "      <td>0</td>\n",
       "      <td>689</td>\n",
       "      <td>0</td>\n",
       "      <td>0</td>\n",
       "      <td>0</td>\n",
       "      <td>0</td>\n",
       "      <td>1</td>\n",
       "    </tr>\n",
       "    <tr>\n",
       "      <th>1</th>\n",
       "      <td>2</td>\n",
       "      <td>120000</td>\n",
       "      <td>2</td>\n",
       "      <td>2</td>\n",
       "      <td>2</td>\n",
       "      <td>26</td>\n",
       "      <td>-1</td>\n",
       "      <td>2</td>\n",
       "      <td>0</td>\n",
       "      <td>0</td>\n",
       "      <td>...</td>\n",
       "      <td>3272</td>\n",
       "      <td>3455</td>\n",
       "      <td>3261</td>\n",
       "      <td>0</td>\n",
       "      <td>1000</td>\n",
       "      <td>1000</td>\n",
       "      <td>1000</td>\n",
       "      <td>0</td>\n",
       "      <td>2000</td>\n",
       "      <td>1</td>\n",
       "    </tr>\n",
       "    <tr>\n",
       "      <th>2</th>\n",
       "      <td>3</td>\n",
       "      <td>90000</td>\n",
       "      <td>2</td>\n",
       "      <td>2</td>\n",
       "      <td>2</td>\n",
       "      <td>34</td>\n",
       "      <td>0</td>\n",
       "      <td>0</td>\n",
       "      <td>0</td>\n",
       "      <td>0</td>\n",
       "      <td>...</td>\n",
       "      <td>14331</td>\n",
       "      <td>14948</td>\n",
       "      <td>15549</td>\n",
       "      <td>1518</td>\n",
       "      <td>1500</td>\n",
       "      <td>1000</td>\n",
       "      <td>1000</td>\n",
       "      <td>1000</td>\n",
       "      <td>5000</td>\n",
       "      <td>0</td>\n",
       "    </tr>\n",
       "    <tr>\n",
       "      <th>3</th>\n",
       "      <td>4</td>\n",
       "      <td>50000</td>\n",
       "      <td>2</td>\n",
       "      <td>2</td>\n",
       "      <td>1</td>\n",
       "      <td>37</td>\n",
       "      <td>0</td>\n",
       "      <td>0</td>\n",
       "      <td>0</td>\n",
       "      <td>0</td>\n",
       "      <td>...</td>\n",
       "      <td>28314</td>\n",
       "      <td>28959</td>\n",
       "      <td>29547</td>\n",
       "      <td>2000</td>\n",
       "      <td>2019</td>\n",
       "      <td>1200</td>\n",
       "      <td>1100</td>\n",
       "      <td>1069</td>\n",
       "      <td>1000</td>\n",
       "      <td>0</td>\n",
       "    </tr>\n",
       "    <tr>\n",
       "      <th>4</th>\n",
       "      <td>5</td>\n",
       "      <td>50000</td>\n",
       "      <td>1</td>\n",
       "      <td>2</td>\n",
       "      <td>1</td>\n",
       "      <td>57</td>\n",
       "      <td>-1</td>\n",
       "      <td>0</td>\n",
       "      <td>-1</td>\n",
       "      <td>0</td>\n",
       "      <td>...</td>\n",
       "      <td>20940</td>\n",
       "      <td>19146</td>\n",
       "      <td>19131</td>\n",
       "      <td>2000</td>\n",
       "      <td>36681</td>\n",
       "      <td>10000</td>\n",
       "      <td>9000</td>\n",
       "      <td>689</td>\n",
       "      <td>679</td>\n",
       "      <td>0</td>\n",
       "    </tr>\n",
       "  </tbody>\n",
       "</table>\n",
       "<p>5 rows × 25 columns</p>\n",
       "</div>"
      ],
      "text/plain": [
       "   ID  LIMIT_BAL  SEX  EDUCATION  MARRIAGE  AGE  PAY_0  PAY_2  PAY_3  PAY_4  \\\n",
       "0   1      20000    2          2         1   24      2      2     -1     -1   \n",
       "1   2     120000    2          2         2   26     -1      2      0      0   \n",
       "2   3      90000    2          2         2   34      0      0      0      0   \n",
       "3   4      50000    2          2         1   37      0      0      0      0   \n",
       "4   5      50000    1          2         1   57     -1      0     -1      0   \n",
       "\n",
       "   ...  BILL_AMT4  BILL_AMT5  BILL_AMT6  PAY_AMT1  PAY_AMT2  PAY_AMT3  \\\n",
       "0  ...          0          0          0         0       689         0   \n",
       "1  ...       3272       3455       3261         0      1000      1000   \n",
       "2  ...      14331      14948      15549      1518      1500      1000   \n",
       "3  ...      28314      28959      29547      2000      2019      1200   \n",
       "4  ...      20940      19146      19131      2000     36681     10000   \n",
       "\n",
       "   PAY_AMT4  PAY_AMT5  PAY_AMT6  DEFAULT  \n",
       "0         0         0         0        1  \n",
       "1      1000         0      2000        1  \n",
       "2      1000      1000      5000        0  \n",
       "3      1100      1069      1000        0  \n",
       "4      9000       689       679        0  \n",
       "\n",
       "[5 rows x 25 columns]"
      ]
     },
     "execution_count": 6,
     "metadata": {},
     "output_type": "execute_result"
    }
   ],
   "source": [
    "credit.toPandas().head(n=5)"
   ]
  },
  {
   "cell_type": "code",
   "execution_count": 7,
   "metadata": {},
   "outputs": [
    {
     "data": {
      "text/plain": [
       "DataFrame[summary: string, ID: string, LIMIT_BAL: string, SEX: string, EDUCATION: string, MARRIAGE: string, AGE: string, PAY_0: string, PAY_2: string, PAY_3: string, PAY_4: string, PAY_5: string, PAY_6: string, BILL_AMT1: string, BILL_AMT2: string, BILL_AMT3: string, BILL_AMT4: string, BILL_AMT5: string, BILL_AMT6: string, PAY_AMT1: string, PAY_AMT2: string, PAY_AMT3: string, PAY_AMT4: string, PAY_AMT5: string, PAY_AMT6: string, DEFAULT: string]"
      ]
     },
     "execution_count": 7,
     "metadata": {},
     "output_type": "execute_result"
    }
   ],
   "source": [
    "credit.describe()"
   ]
  },
  {
   "cell_type": "code",
   "execution_count": 8,
   "metadata": {},
   "outputs": [
    {
     "data": {
      "text/html": [
       "<div>\n",
       "<style scoped>\n",
       "    .dataframe tbody tr th:only-of-type {\n",
       "        vertical-align: middle;\n",
       "    }\n",
       "\n",
       "    .dataframe tbody tr th {\n",
       "        vertical-align: top;\n",
       "    }\n",
       "\n",
       "    .dataframe thead th {\n",
       "        text-align: right;\n",
       "    }\n",
       "</style>\n",
       "<table border=\"1\" class=\"dataframe\">\n",
       "  <thead>\n",
       "    <tr style=\"text-align: right;\">\n",
       "      <th></th>\n",
       "      <th>0</th>\n",
       "      <th>1</th>\n",
       "      <th>2</th>\n",
       "      <th>3</th>\n",
       "      <th>4</th>\n",
       "    </tr>\n",
       "  </thead>\n",
       "  <tbody>\n",
       "    <tr>\n",
       "      <th>summary</th>\n",
       "      <td>count</td>\n",
       "      <td>mean</td>\n",
       "      <td>stddev</td>\n",
       "      <td>min</td>\n",
       "      <td>max</td>\n",
       "    </tr>\n",
       "    <tr>\n",
       "      <th>ID</th>\n",
       "      <td>30000</td>\n",
       "      <td>15000.5</td>\n",
       "      <td>8660.398374208891</td>\n",
       "      <td>1</td>\n",
       "      <td>30000</td>\n",
       "    </tr>\n",
       "    <tr>\n",
       "      <th>LIMIT_BAL</th>\n",
       "      <td>30000</td>\n",
       "      <td>167484.32266666667</td>\n",
       "      <td>129747.66156720246</td>\n",
       "      <td>10000</td>\n",
       "      <td>1000000</td>\n",
       "    </tr>\n",
       "    <tr>\n",
       "      <th>SEX</th>\n",
       "      <td>30000</td>\n",
       "      <td>1.6037333333333332</td>\n",
       "      <td>0.4891291960902602</td>\n",
       "      <td>1</td>\n",
       "      <td>2</td>\n",
       "    </tr>\n",
       "    <tr>\n",
       "      <th>EDUCATION</th>\n",
       "      <td>30000</td>\n",
       "      <td>1.8531333333333333</td>\n",
       "      <td>0.7903486597207269</td>\n",
       "      <td>0</td>\n",
       "      <td>6</td>\n",
       "    </tr>\n",
       "    <tr>\n",
       "      <th>MARRIAGE</th>\n",
       "      <td>30000</td>\n",
       "      <td>1.5518666666666667</td>\n",
       "      <td>0.5219696006132467</td>\n",
       "      <td>0</td>\n",
       "      <td>3</td>\n",
       "    </tr>\n",
       "    <tr>\n",
       "      <th>AGE</th>\n",
       "      <td>30000</td>\n",
       "      <td>35.4855</td>\n",
       "      <td>9.217904068090155</td>\n",
       "      <td>21</td>\n",
       "      <td>79</td>\n",
       "    </tr>\n",
       "    <tr>\n",
       "      <th>PAY_0</th>\n",
       "      <td>30000</td>\n",
       "      <td>-0.0167</td>\n",
       "      <td>1.1238015279973335</td>\n",
       "      <td>-2</td>\n",
       "      <td>8</td>\n",
       "    </tr>\n",
       "    <tr>\n",
       "      <th>PAY_2</th>\n",
       "      <td>30000</td>\n",
       "      <td>-0.13376666666666667</td>\n",
       "      <td>1.1971859730345495</td>\n",
       "      <td>-2</td>\n",
       "      <td>8</td>\n",
       "    </tr>\n",
       "    <tr>\n",
       "      <th>PAY_3</th>\n",
       "      <td>30000</td>\n",
       "      <td>-0.1662</td>\n",
       "      <td>1.1968675684465686</td>\n",
       "      <td>-2</td>\n",
       "      <td>8</td>\n",
       "    </tr>\n",
       "    <tr>\n",
       "      <th>PAY_4</th>\n",
       "      <td>30000</td>\n",
       "      <td>-0.22066666666666668</td>\n",
       "      <td>1.1691386224023357</td>\n",
       "      <td>-2</td>\n",
       "      <td>8</td>\n",
       "    </tr>\n",
       "    <tr>\n",
       "      <th>PAY_5</th>\n",
       "      <td>30000</td>\n",
       "      <td>-0.2662</td>\n",
       "      <td>1.1331874060027525</td>\n",
       "      <td>-2</td>\n",
       "      <td>8</td>\n",
       "    </tr>\n",
       "    <tr>\n",
       "      <th>PAY_6</th>\n",
       "      <td>30000</td>\n",
       "      <td>-0.2911</td>\n",
       "      <td>1.149987625607897</td>\n",
       "      <td>-2</td>\n",
       "      <td>8</td>\n",
       "    </tr>\n",
       "    <tr>\n",
       "      <th>BILL_AMT1</th>\n",
       "      <td>30000</td>\n",
       "      <td>51223.3309</td>\n",
       "      <td>73635.86057552966</td>\n",
       "      <td>-165580</td>\n",
       "      <td>964511</td>\n",
       "    </tr>\n",
       "    <tr>\n",
       "      <th>BILL_AMT2</th>\n",
       "      <td>30000</td>\n",
       "      <td>49179.07516666667</td>\n",
       "      <td>71173.76878252832</td>\n",
       "      <td>-69777</td>\n",
       "      <td>983931</td>\n",
       "    </tr>\n",
       "    <tr>\n",
       "      <th>BILL_AMT3</th>\n",
       "      <td>30000</td>\n",
       "      <td>47013.1548</td>\n",
       "      <td>69349.38742703677</td>\n",
       "      <td>-157264</td>\n",
       "      <td>1664089</td>\n",
       "    </tr>\n",
       "    <tr>\n",
       "      <th>BILL_AMT4</th>\n",
       "      <td>30000</td>\n",
       "      <td>43262.94896666666</td>\n",
       "      <td>64332.856133916444</td>\n",
       "      <td>-170000</td>\n",
       "      <td>891586</td>\n",
       "    </tr>\n",
       "    <tr>\n",
       "      <th>BILL_AMT5</th>\n",
       "      <td>30000</td>\n",
       "      <td>40311.40096666667</td>\n",
       "      <td>60797.15577026471</td>\n",
       "      <td>-81334</td>\n",
       "      <td>927171</td>\n",
       "    </tr>\n",
       "    <tr>\n",
       "      <th>BILL_AMT6</th>\n",
       "      <td>30000</td>\n",
       "      <td>38871.7604</td>\n",
       "      <td>59554.1075367459</td>\n",
       "      <td>-339603</td>\n",
       "      <td>961664</td>\n",
       "    </tr>\n",
       "    <tr>\n",
       "      <th>PAY_AMT1</th>\n",
       "      <td>30000</td>\n",
       "      <td>5663.5805</td>\n",
       "      <td>16563.28035402577</td>\n",
       "      <td>0</td>\n",
       "      <td>873552</td>\n",
       "    </tr>\n",
       "    <tr>\n",
       "      <th>PAY_AMT2</th>\n",
       "      <td>30000</td>\n",
       "      <td>5921.1635</td>\n",
       "      <td>23040.870402057186</td>\n",
       "      <td>0</td>\n",
       "      <td>1684259</td>\n",
       "    </tr>\n",
       "    <tr>\n",
       "      <th>PAY_AMT3</th>\n",
       "      <td>30000</td>\n",
       "      <td>5225.6815</td>\n",
       "      <td>17606.96146980311</td>\n",
       "      <td>0</td>\n",
       "      <td>896040</td>\n",
       "    </tr>\n",
       "    <tr>\n",
       "      <th>PAY_AMT4</th>\n",
       "      <td>30000</td>\n",
       "      <td>4826.076866666666</td>\n",
       "      <td>15666.159744032062</td>\n",
       "      <td>0</td>\n",
       "      <td>621000</td>\n",
       "    </tr>\n",
       "    <tr>\n",
       "      <th>PAY_AMT5</th>\n",
       "      <td>30000</td>\n",
       "      <td>4799.387633333334</td>\n",
       "      <td>15278.305679144742</td>\n",
       "      <td>0</td>\n",
       "      <td>426529</td>\n",
       "    </tr>\n",
       "    <tr>\n",
       "      <th>PAY_AMT6</th>\n",
       "      <td>30000</td>\n",
       "      <td>5215.502566666667</td>\n",
       "      <td>17777.46577543531</td>\n",
       "      <td>0</td>\n",
       "      <td>528666</td>\n",
       "    </tr>\n",
       "    <tr>\n",
       "      <th>DEFAULT</th>\n",
       "      <td>30000</td>\n",
       "      <td>0.2212</td>\n",
       "      <td>0.41506180569093254</td>\n",
       "      <td>0</td>\n",
       "      <td>1</td>\n",
       "    </tr>\n",
       "  </tbody>\n",
       "</table>\n",
       "</div>"
      ],
      "text/plain": [
       "               0                     1                    2        3        4\n",
       "summary    count                  mean               stddev      min      max\n",
       "ID         30000               15000.5    8660.398374208891        1    30000\n",
       "LIMIT_BAL  30000    167484.32266666667   129747.66156720246    10000  1000000\n",
       "SEX        30000    1.6037333333333332   0.4891291960902602        1        2\n",
       "EDUCATION  30000    1.8531333333333333   0.7903486597207269        0        6\n",
       "MARRIAGE   30000    1.5518666666666667   0.5219696006132467        0        3\n",
       "AGE        30000               35.4855    9.217904068090155       21       79\n",
       "PAY_0      30000               -0.0167   1.1238015279973335       -2        8\n",
       "PAY_2      30000  -0.13376666666666667   1.1971859730345495       -2        8\n",
       "PAY_3      30000               -0.1662   1.1968675684465686       -2        8\n",
       "PAY_4      30000  -0.22066666666666668   1.1691386224023357       -2        8\n",
       "PAY_5      30000               -0.2662   1.1331874060027525       -2        8\n",
       "PAY_6      30000               -0.2911    1.149987625607897       -2        8\n",
       "BILL_AMT1  30000            51223.3309    73635.86057552966  -165580   964511\n",
       "BILL_AMT2  30000     49179.07516666667    71173.76878252832   -69777   983931\n",
       "BILL_AMT3  30000            47013.1548    69349.38742703677  -157264  1664089\n",
       "BILL_AMT4  30000     43262.94896666666   64332.856133916444  -170000   891586\n",
       "BILL_AMT5  30000     40311.40096666667    60797.15577026471   -81334   927171\n",
       "BILL_AMT6  30000            38871.7604     59554.1075367459  -339603   961664\n",
       "PAY_AMT1   30000             5663.5805    16563.28035402577        0   873552\n",
       "PAY_AMT2   30000             5921.1635   23040.870402057186        0  1684259\n",
       "PAY_AMT3   30000             5225.6815    17606.96146980311        0   896040\n",
       "PAY_AMT4   30000     4826.076866666666   15666.159744032062        0   621000\n",
       "PAY_AMT5   30000     4799.387633333334   15278.305679144742        0   426529\n",
       "PAY_AMT6   30000     5215.502566666667    17777.46577543531        0   528666\n",
       "DEFAULT    30000                0.2212  0.41506180569093254        0        1"
      ]
     },
     "execution_count": 8,
     "metadata": {},
     "output_type": "execute_result"
    }
   ],
   "source": [
    "credit.describe().toPandas().transpose()"
   ]
  },
  {
   "cell_type": "markdown",
   "metadata": {},
   "source": [
    "###### From the summary and looking manually into the dataset I have infered three points:\n",
    "\n",
    "1. It can be observed that marriage has a lable '0' but in the description of data it is given marriage has values 1,2 and 3.\n",
    "\n",
    "2. Education column has 0, 5 and 6 as lables which are not specified in the decription of data.\n",
    "\n",
    "3. We can see that all the columns have -2 as minimum. But in the description of data it given that -1 indicates pay duly. There is no information regarding -2.\n",
    "\n",
    "We can deal with these during data cleaning"
   ]
  },
  {
   "cell_type": "markdown",
   "metadata": {},
   "source": [
    "### Let's see how different variables are distributed and how there are related to one another."
   ]
  },
  {
   "cell_type": "markdown",
   "metadata": {},
   "source": [
    "1. Check number of classes in the target variable is balanced of imbalenced."
   ]
  },
  {
   "cell_type": "code",
   "execution_count": 9,
   "metadata": {},
   "outputs": [
    {
     "name": "stdout",
     "output_type": "stream",
     "text": [
      "+-------+-----+\n",
      "|DEFAULT|count|\n",
      "+-------+-----+\n",
      "|      1| 6636|\n",
      "|      0|23364|\n",
      "+-------+-----+\n",
      "\n"
     ]
    }
   ],
   "source": [
    "credit.groupBy('DEFAULT').count().show()"
   ]
  },
  {
   "cell_type": "markdown",
   "metadata": {},
   "source": [
    "Visualize it for better interpretation:"
   ]
  },
  {
   "cell_type": "code",
   "execution_count": 10,
   "metadata": {},
   "outputs": [
    {
     "name": "stdout",
     "output_type": "stream",
     "text": [
      "30000\n"
     ]
    },
    {
     "data": {
      "text/plain": [
       "<matplotlib.axes._subplots.AxesSubplot at 0x244ec72a848>"
      ]
     },
     "execution_count": 10,
     "metadata": {},
     "output_type": "execute_result"
    },
    {
     "data": {
      "image/png": "[encoded data removed]",
      "text/plain": [
       "<Figure size 288x288 with 1 Axes>"
      ]
     },
     "metadata": {
      "needs_background": "light"
     },
     "output_type": "display_data"
    }
   ],
   "source": [
    "import matplotlib.pyplot as plt\n",
    "import seaborn as sns\n",
    "%matplotlib inline\n",
    "credit_pd = credit.toPandas()\n",
    "print(len(credit_pd))\n",
    "plt.figure(figsize=(4,4))\n",
    "sns.countplot(x='DEFAULT', data=credit_pd, order=credit_pd['DEFAULT'].value_counts().index)"
   ]
  },
  {
   "cell_type": "markdown",
   "metadata": {},
   "source": [
    "2. Let's check how target variable (DEFAULT) is related other technicaly categorical variables (SEX, EDUCATION and MARRIAGE)"
   ]
  },
  {
   "cell_type": "code",
   "execution_count": 11,
   "metadata": {},
   "outputs": [
    {
     "name": "stdout",
     "output_type": "stream",
     "text": [
      "+-------+---+-----+\n",
      "|Default|SEX|count|\n",
      "+-------+---+-----+\n",
      "|      1|  2| 3763|\n",
      "|      1|  1| 2873|\n",
      "|      0|  1| 9015|\n",
      "|      0|  2|14349|\n",
      "+-------+---+-----+\n",
      "\n"
     ]
    }
   ],
   "source": [
    "credit.select(\"SEX\", \"Default\").groupBy(\"Default\", 'SEX').count().show()"
   ]
  },
  {
   "cell_type": "code",
   "execution_count": 12,
   "metadata": {},
   "outputs": [
    {
     "data": {
      "image/png": "[encoded data removed]",
      "text/plain": [
       "<Figure size 432x288 with 1 Axes>"
      ]
     },
     "metadata": {
      "needs_background": "light"
     },
     "output_type": "display_data"
    }
   ],
   "source": [
    "credit_pd = credit.toPandas()\n",
    "ax = sns.countplot(x=\"DEFAULT\",hue=\"SEX\", data=credit_pd)\n",
    "plt.show()"
   ]
  },
  {
   "cell_type": "code",
   "execution_count": 14,
   "metadata": {},
   "outputs": [
    {
     "name": "stdout",
     "output_type": "stream",
     "text": [
      "+-------+--------+-----+\n",
      "|Default|Marriage|count|\n",
      "+-------+--------+-----+\n",
      "|      1|       0|    5|\n",
      "|      1|       2| 3341|\n",
      "|      1|       1| 3206|\n",
      "|      1|       3|   84|\n",
      "|      0|       0|   49|\n",
      "|      0|       1|10453|\n",
      "|      0|       2|12623|\n",
      "|      0|       3|  239|\n",
      "+-------+--------+-----+\n",
      "\n"
     ]
    }
   ],
   "source": [
    "credit.select(\"Marriage\", \"Default\").groupBy(\"Default\", 'Marriage').count().show()"
   ]
  },
  {
   "cell_type": "code",
   "execution_count": 15,
   "metadata": {},
   "outputs": [
    {
     "data": {
      "image/png": "[encoded data removed]",
      "text/plain": [
       "<Figure size 432x288 with 1 Axes>"
      ]
     },
     "metadata": {
      "needs_background": "light"
     },
     "output_type": "display_data"
    }
   ],
   "source": [
    "ax = sns.countplot(x=\"DEFAULT\",hue=\"MARRIAGE\", data=credit_pd)\n",
    "plt.show()"
   ]
  },
  {
   "cell_type": "code",
   "execution_count": 16,
   "metadata": {},
   "outputs": [
    {
     "name": "stdout",
     "output_type": "stream",
     "text": [
      "+-------+---------+-----+\n",
      "|Default|Education|count|\n",
      "+-------+---------+-----+\n",
      "|      1|        2| 3330|\n",
      "|      0|        5|  262|\n",
      "|      1|        1| 2036|\n",
      "|      1|        3| 1237|\n",
      "|      0|        0|   14|\n",
      "|      1|        4|    7|\n",
      "|      0|        1| 8549|\n",
      "|      1|        5|   18|\n",
      "|      0|        6|   43|\n",
      "|      0|        2|10700|\n",
      "|      0|        3| 3680|\n",
      "|      1|        6|    8|\n",
      "|      0|        4|  116|\n",
      "+-------+---------+-----+\n",
      "\n"
     ]
    }
   ],
   "source": [
    "credit.select(\"Education\", \"Default\").groupBy(\"Default\", 'Education').count().show()"
   ]
  },
  {
   "cell_type": "code",
   "execution_count": 17,
   "metadata": {},
   "outputs": [
    {
     "data": {
      "image/png": "[encoded data removed]",
      "text/plain": [
       "<Figure size 432x288 with 1 Axes>"
      ]
     },
     "metadata": {
      "needs_background": "light"
     },
     "output_type": "display_data"
    }
   ],
   "source": [
    "ax = sns.countplot(x=\"DEFAULT\",hue=\"EDUCATION\", data=credit_pd)\n",
    "plt.show()"
   ]
  },
  {
   "cell_type": "markdown",
   "metadata": {},
   "source": [
    "3. Let's see the correlations scores btw target variable and categorical variables:"
   ]
  },
  {
   "cell_type": "code",
   "execution_count": 18,
   "metadata": {},
   "outputs": [
    {
     "name": "stdout",
     "output_type": "stream",
     "text": [
      "correlation matrix:\n",
      "DenseMatrix([[ 1.        , -0.03996058],\n",
      "             [-0.03996058,  1.        ]])\n"
     ]
    }
   ],
   "source": [
    "from pyspark.ml.linalg import Vectors\n",
    "from pyspark.ml.stat import Correlation\n",
    "from pyspark.ml.feature import VectorAssembler\n",
    "\n",
    "assembler = VectorAssembler(inputCols=[\"SEX\",\"DEFAULT\"],outputCol=\"S_D\")\n",
    "credit1 = assembler.transform(credit)\n",
    "#credit1.select(\"S_D\").show(5)\n",
    "\n",
    "r1 = Correlation.corr(credit1, \"S_D\").head()\n",
    "print(\"correlation matrix:\\n\" + str(r1[0]))"
   ]
  },
  {
   "cell_type": "code",
   "execution_count": 19,
   "metadata": {},
   "outputs": [
    {
     "name": "stdout",
     "output_type": "stream",
     "text": [
      "correlation matrix:\n",
      "DenseMatrix([[1.        , 0.02800608],\n",
      "             [0.02800608, 1.        ]])\n"
     ]
    }
   ],
   "source": [
    "assembler = VectorAssembler(inputCols=[\"EDUCATION\",\"DEFAULT\"],outputCol=\"E_D\")\n",
    "credit2 = assembler.transform(credit)\n",
    "\n",
    "r2 = Correlation.corr(credit2, \"E_D\").head()\n",
    "print(\"correlation matrix:\\n\" + str(r2[0]))"
   ]
  },
  {
   "cell_type": "code",
   "execution_count": 20,
   "metadata": {},
   "outputs": [
    {
     "name": "stdout",
     "output_type": "stream",
     "text": [
      "correlation matrix:\n",
      "DenseMatrix([[ 1.        , -0.02433922],\n",
      "             [-0.02433922,  1.        ]])\n"
     ]
    }
   ],
   "source": [
    "assembler = VectorAssembler(inputCols=[\"MARRIAGE\",\"DEFAULT\"],outputCol=\"M_D\")\n",
    "credit2 = assembler.transform(credit)\n",
    "\n",
    "r3 = Correlation.corr(credit2, \"M_D\").head()\n",
    "print(\"correlation matrix:\\n\" + str(r3[0]))"
   ]
  },
  {
   "cell_type": "markdown",
   "metadata": {},
   "source": [
    "4. I have plotted a heatmap to see the correlation btw all the attibutes/features."
   ]
  },
  {
   "cell_type": "code",
   "execution_count": 21,
   "metadata": {},
   "outputs": [
    {
     "data": {
      "text/plain": [
       "<matplotlib.axes._subplots.AxesSubplot at 0x244ee9ee4c8>"
      ]
     },
     "execution_count": 21,
     "metadata": {},
     "output_type": "execute_result"
    },
    {
     "data": {
      "image/png": "[encoded data removed]",
      "text/plain": [
       "<Figure size 1080x1080 with 2 Axes>"
      ]
     },
     "metadata": {},
     "output_type": "display_data"
    }
   ],
   "source": [
    "import seaborn as sns; sns.set()\n",
    "correlation_df = credit.toPandas().corr()\n",
    "\n",
    "sns.set(rc={\"font.style\":\"normal\",\n",
    "            \"axes.titlesize\":20,\n",
    "            \"text.color\":\"black\",\n",
    "            \"xtick.color\":\"black\",\n",
    "            \"ytick.color\":\"black\",\n",
    "            \"axes.labelcolor\":\"black\",\n",
    "            \"axes.grid\":False,\n",
    "            'axes.labelsize':30,\n",
    "            'figure.figsize':(15, 15),\n",
    "            'xtick.labelsize':15,\n",
    "            'ytick.labelsize':15})\n",
    "sns.heatmap(correlation_df, annot = True, annot_kws={\"size\": 7}, cmap=\"YlGnBu\", linewidths=.5)"
   ]
  },
  {
   "cell_type": "markdown",
   "metadata": {},
   "source": [
    "5. Let's look at the correlation scores btw the target variable and all the other variables."
   ]
  },
  {
   "cell_type": "code",
   "execution_count": 22,
   "metadata": {},
   "outputs": [
    {
     "name": "stdout",
     "output_type": "stream",
     "text": [
      "Correlation to Default for  ID -0.013951954838986256\n",
      "Correlation to Default for  LIMIT_BAL -0.1535198763935072\n",
      "Correlation to Default for  SEX -0.03996057770544174\n",
      "Correlation to Default for  EDUCATION 0.02800607765625021\n",
      "Correlation to Default for  MARRIAGE -0.024339215683404455\n",
      "Correlation to Default for  AGE 0.013889834301962877\n",
      "Correlation to Default for  PAY_0 0.32479372847862237\n",
      "Correlation to Default for  PAY_2 0.26355120167216783\n",
      "Correlation to Default for  PAY_3 0.2352525137249171\n",
      "Correlation to Default for  PAY_4 0.2166136368424239\n",
      "Correlation to Default for  PAY_5 0.2041489138761644\n",
      "Correlation to Default for  PAY_6 0.18686636165354611\n",
      "Correlation to Default for  BILL_AMT1 -0.019644197143221576\n",
      "Correlation to Default for  BILL_AMT2 -0.014193218088215746\n",
      "Correlation to Default for  BILL_AMT3 -0.014075518043214713\n",
      "Correlation to Default for  BILL_AMT4 -0.010156495880289678\n",
      "Correlation to Default for  BILL_AMT5 -0.006760463841014792\n",
      "Correlation to Default for  BILL_AMT6 -0.005372314914815569\n",
      "Correlation to Default for  PAY_AMT1 -0.07292948777785163\n",
      "Correlation to Default for  PAY_AMT2 -0.058578706582901575\n",
      "Correlation to Default for  PAY_AMT3 -0.056250350990331634\n",
      "Correlation to Default for  PAY_AMT4 -0.05682740089288694\n",
      "Correlation to Default for  PAY_AMT5 -0.055123515621088755\n",
      "Correlation to Default for  PAY_AMT6 -0.053183340326127954\n",
      "Correlation to Default for  DEFAULT 1.0\n"
     ]
    }
   ],
   "source": [
    "import six\n",
    "for i in credit.columns:\n",
    "    if not( isinstance(credit.select(i).take(1)[0][0], six.string_types)):\n",
    "        print( \"Correlation to Default for \", i, credit.stat.corr('DEFAULT',i))"
   ]
  },
  {
   "cell_type": "markdown",
   "metadata": {},
   "source": [
    "## Data cleaning"
   ]
  },
  {
   "cell_type": "markdown",
   "metadata": {},
   "source": [
    "Let us 1st fix the flaws we noted down earlier in the summary of the data.\n",
    "\n",
    "1. Assign '0' to other label in marriage column i.e., change all '0' to '3'.\n",
    "2. Assign '0','5' & '6' to other label in education column i.e., change all '0','5' & '6' to '4'.\n",
    "3. And I dont want negative values in Pay_x columns so I will change instances with '-2' to 0. Which means duly paid.\n",
    "\n"
   ]
  },
  {
   "cell_type": "code",
   "execution_count": 23,
   "metadata": {},
   "outputs": [
    {
     "name": "stdout",
     "output_type": "stream",
     "text": [
      "+------------------------+\n",
      "|count(DISTINCT MARRIAGE)|\n",
      "+------------------------+\n",
      "|                       4|\n",
      "+------------------------+\n",
      "\n"
     ]
    }
   ],
   "source": [
    "from pyspark.sql.functions import *\n",
    "from pyspark.sql.functions import when, count, col, countDistinct\n",
    "credit.select(countDistinct('MARRIAGE')).show()"
   ]
  },
  {
   "cell_type": "code",
   "execution_count": 24,
   "metadata": {},
   "outputs": [
    {
     "name": "stdout",
     "output_type": "stream",
     "text": [
      "+------------------------+\n",
      "|count(DISTINCT MARRIAGE)|\n",
      "+------------------------+\n",
      "|                       3|\n",
      "+------------------------+\n",
      "\n"
     ]
    }
   ],
   "source": [
    "from pyspark.sql import functions as F\n",
    "credit_1 = credit.withColumn(\"MARRIAGE\", F.when(F.col(\"MARRIAGE\")==0, 3).otherwise(F.col(\"MARRIAGE\")))\n",
    "credit_1.select(countDistinct('MARRIAGE')).show()"
   ]
  },
  {
   "cell_type": "code",
   "execution_count": 25,
   "metadata": {},
   "outputs": [
    {
     "name": "stdout",
     "output_type": "stream",
     "text": [
      "+-------------------------+\n",
      "|count(DISTINCT EDUCATION)|\n",
      "+-------------------------+\n",
      "|                        7|\n",
      "+-------------------------+\n",
      "\n"
     ]
    }
   ],
   "source": [
    "credit.select(countDistinct('EDUCATION')).show()"
   ]
  },
  {
   "cell_type": "code",
   "execution_count": 26,
   "metadata": {},
   "outputs": [
    {
     "name": "stdout",
     "output_type": "stream",
     "text": [
      "+-------------------------+\n",
      "|count(DISTINCT EDUCATION)|\n",
      "+-------------------------+\n",
      "|                        4|\n",
      "+-------------------------+\n",
      "\n"
     ]
    }
   ],
   "source": [
    "credit_2 = credit_1.withColumn('EDUCATION', F.when(F.col(\"EDUCATION\")==5, 4).otherwise(F.col(\"EDUCATION\"))).withColumn('EDUCATION', F.when(F.col(\"EDUCATION\")==6, 4).otherwise(F.col(\"EDUCATION\"))).withColumn('EDUCATION', F.when(F.col(\"EDUCATION\")==0, 4).otherwise(F.col(\"EDUCATION\")))\n",
    "credit_2.select(countDistinct('EDUCATION')).show()"
   ]
  },
  {
   "cell_type": "code",
   "execution_count": 27,
   "metadata": {
    "scrolled": true
   },
   "outputs": [
    {
     "name": "stdout",
     "output_type": "stream",
     "text": [
      "+---------------------+---------------------+---------------------+---------------------+---------------------+---------------------+\n",
      "|count(DISTINCT PAY_0)|count(DISTINCT PAY_2)|count(DISTINCT PAY_3)|count(DISTINCT PAY_4)|count(DISTINCT PAY_5)|count(DISTINCT PAY_6)|\n",
      "+---------------------+---------------------+---------------------+---------------------+---------------------+---------------------+\n",
      "|                   11|                   11|                   11|                   11|                   10|                   10|\n",
      "+---------------------+---------------------+---------------------+---------------------+---------------------+---------------------+\n",
      "\n"
     ]
    }
   ],
   "source": [
    "credit.select(countDistinct('PAY_0'),countDistinct('PAY_2'),countDistinct('PAY_3'),countDistinct('PAY_4'),countDistinct('PAY_5'),countDistinct('PAY_6')).show()"
   ]
  },
  {
   "cell_type": "code",
   "execution_count": 28,
   "metadata": {},
   "outputs": [
    {
     "name": "stdout",
     "output_type": "stream",
     "text": [
      "+---------------------+---------------------+---------------------+---------------------+---------------------+---------------------+\n",
      "|count(DISTINCT PAY_0)|count(DISTINCT PAY_2)|count(DISTINCT PAY_3)|count(DISTINCT PAY_4)|count(DISTINCT PAY_5)|count(DISTINCT PAY_6)|\n",
      "+---------------------+---------------------+---------------------+---------------------+---------------------+---------------------+\n",
      "|                    9|                    9|                    9|                    9|                    8|                    8|\n",
      "+---------------------+---------------------+---------------------+---------------------+---------------------+---------------------+\n",
      "\n"
     ]
    }
   ],
   "source": [
    "credit_3 = credit_2.withColumn('PAY_0', F.when((F.col('PAY_0')==-2) | (F.col('PAY_0')==-1), 0).otherwise(F.col('PAY_0'))).withColumn('PAY_2', F.when((F.col('PAY_2')==-2) | (F.col('PAY_2')==-1), 0).otherwise(F.col('PAY_2'))).withColumn('PAY_3', F.when((F.col('PAY_3')==-2) | (F.col('PAY_3')==-1), 0).otherwise(F.col('PAY_3'))).withColumn('PAY_4', F.when((F.col('PAY_4')==-2) | (F.col('PAY_4')==-1), 0).otherwise(F.col('PAY_4'))).withColumn('PAY_5', F.when((F.col('PAY_5')==-2) | (F.col('PAY_5')==-1), 0).otherwise(F.col('PAY_5'))).withColumn('PAY_6', F.when((F.col('PAY_6')==-2) | (F.col('PAY_6')==-1), 0).otherwise(F.col('PAY_6')))\n",
    "credit_3.select(countDistinct('PAY_0'),countDistinct('PAY_2'),countDistinct('PAY_3'),countDistinct('PAY_4'),countDistinct('PAY_5'),countDistinct('PAY_6')).show()"
   ]
  },
  {
   "cell_type": "markdown",
   "metadata": {},
   "source": [
    "###### Check if there are any missing values in the dataset."
   ]
  },
  {
   "cell_type": "code",
   "execution_count": 31,
   "metadata": {
    "scrolled": true
   },
   "outputs": [
    {
     "data": {
      "text/html": [
       "<div>\n",
       "<style scoped>\n",
       "    .dataframe tbody tr th:only-of-type {\n",
       "        vertical-align: middle;\n",
       "    }\n",
       "\n",
       "    .dataframe tbody tr th {\n",
       "        vertical-align: top;\n",
       "    }\n",
       "\n",
       "    .dataframe thead th {\n",
       "        text-align: right;\n",
       "    }\n",
       "</style>\n",
       "<table border=\"1\" class=\"dataframe\">\n",
       "  <thead>\n",
       "    <tr style=\"text-align: right;\">\n",
       "      <th></th>\n",
       "      <th>ID</th>\n",
       "      <th>LIMIT_BAL</th>\n",
       "      <th>SEX</th>\n",
       "      <th>EDUCATION</th>\n",
       "      <th>MARRIAGE</th>\n",
       "      <th>AGE</th>\n",
       "      <th>PAY_0</th>\n",
       "      <th>PAY_2</th>\n",
       "      <th>PAY_3</th>\n",
       "      <th>PAY_4</th>\n",
       "      <th>...</th>\n",
       "      <th>BILL_AMT4</th>\n",
       "      <th>BILL_AMT5</th>\n",
       "      <th>BILL_AMT6</th>\n",
       "      <th>PAY_AMT1</th>\n",
       "      <th>PAY_AMT2</th>\n",
       "      <th>PAY_AMT3</th>\n",
       "      <th>PAY_AMT4</th>\n",
       "      <th>PAY_AMT5</th>\n",
       "      <th>PAY_AMT6</th>\n",
       "      <th>DEFAULT</th>\n",
       "    </tr>\n",
       "  </thead>\n",
       "  <tbody>\n",
       "    <tr>\n",
       "      <th>0</th>\n",
       "      <td>0</td>\n",
       "      <td>0</td>\n",
       "      <td>0</td>\n",
       "      <td>0</td>\n",
       "      <td>0</td>\n",
       "      <td>0</td>\n",
       "      <td>0</td>\n",
       "      <td>0</td>\n",
       "      <td>0</td>\n",
       "      <td>0</td>\n",
       "      <td>...</td>\n",
       "      <td>0</td>\n",
       "      <td>0</td>\n",
       "      <td>0</td>\n",
       "      <td>0</td>\n",
       "      <td>0</td>\n",
       "      <td>0</td>\n",
       "      <td>0</td>\n",
       "      <td>0</td>\n",
       "      <td>0</td>\n",
       "      <td>0</td>\n",
       "    </tr>\n",
       "  </tbody>\n",
       "</table>\n",
       "<p>1 rows × 25 columns</p>\n",
       "</div>"
      ],
      "text/plain": [
       "   ID  LIMIT_BAL  SEX  EDUCATION  MARRIAGE  AGE  PAY_0  PAY_2  PAY_3  PAY_4  \\\n",
       "0   0          0    0          0         0    0      0      0      0      0   \n",
       "\n",
       "   ...  BILL_AMT4  BILL_AMT5  BILL_AMT6  PAY_AMT1  PAY_AMT2  PAY_AMT3  \\\n",
       "0  ...          0          0          0         0         0         0   \n",
       "\n",
       "   PAY_AMT4  PAY_AMT5  PAY_AMT6  DEFAULT  \n",
       "0         0         0         0        0  \n",
       "\n",
       "[1 rows x 25 columns]"
      ]
     },
     "execution_count": 31,
     "metadata": {},
     "output_type": "execute_result"
    }
   ],
   "source": [
    "credit_3.select([count(when(isnan(c) | col(c).isNull(), c)).alias(c) for c in credit.columns]).toPandas()"
   ]
  },
  {
   "cell_type": "markdown",
   "metadata": {},
   "source": [
    "We don't have any missing values in the data set so we can move forward."
   ]
  },
  {
   "cell_type": "markdown",
   "metadata": {},
   "source": [
    "### Feature scaling"
   ]
  },
  {
   "cell_type": "code",
   "execution_count": 32,
   "metadata": {},
   "outputs": [
    {
     "name": "stdout",
     "output_type": "stream",
     "text": [
      "+--------------------+--------------------+\n",
      "|            features|      scaledFeatures|\n",
      "+--------------------+--------------------+\n",
      "|(25,[0,1,2,3,4,5,...|[-1.7319642067123...|\n",
      "|[2.0,120000.0,2.0...|[-1.7318487385830...|\n",
      "|[3.0,90000.0,2.0,...|[-1.7317332704536...|\n",
      "|[4.0,50000.0,2.0,...|[-1.7316178023242...|\n",
      "|[5.0,50000.0,1.0,...|[-1.7315023341948...|\n",
      "+--------------------+--------------------+\n",
      "only showing top 5 rows\n",
      "\n"
     ]
    }
   ],
   "source": [
    "from pyspark.ml.linalg import Vectors\n",
    "from pyspark.ml.feature import VectorAssembler\n",
    "from pyspark.ml.feature import StandardScaler\n",
    "\n",
    "assembler = VectorAssembler(inputCols=['ID','LIMIT_BAL','SEX','EDUCATION','MARRIAGE','AGE','PAY_0','PAY_2','PAY_3','PAY_4',\n",
    "'PAY_5','PAY_6','BILL_AMT1','BILL_AMT2','BILL_AMT3','BILL_AMT4','BILL_AMT5','BILL_AMT6','PAY_AMT1','PAY_AMT1',\n",
    "'PAY_AMT2','PAY_AMT3','PAY_AMT4','PAY_AMT5','PAY_AMT6'], outputCol=\"features\")\n",
    "\n",
    "featuredcredit = assembler.transform(credit_3)\n",
    "\n",
    "scaler = StandardScaler(withMean=True, withStd=True, inputCol=\"features\", outputCol=\"scaledFeatures\")\n",
    "\n",
    "# Compute summary statistics by fitting the StandardScaler\n",
    "scalerModel = scaler.fit(featuredcredit)\n",
    "\n",
    "# Normalize each feature to have unit standard deviation.\n",
    "scaledcredit = scalerModel.transform(featuredcredit)\n",
    "scaledcredit.select([\"features\", \"scaledFeatures\"]).show(5)"
   ]
  },
  {
   "cell_type": "code",
   "execution_count": 33,
   "metadata": {},
   "outputs": [
    {
     "name": "stdout",
     "output_type": "stream",
     "text": [
      "+---+---------+---+---------+--------+---+-----+-----+-----+-----+-----+-----+---------+---------+---------+---------+---------+---------+--------+--------+--------+--------+--------+--------+-------+--------------------+--------------------+\n",
      "| ID|LIMIT_BAL|SEX|EDUCATION|MARRIAGE|AGE|PAY_0|PAY_2|PAY_3|PAY_4|PAY_5|PAY_6|BILL_AMT1|BILL_AMT2|BILL_AMT3|BILL_AMT4|BILL_AMT5|BILL_AMT6|PAY_AMT1|PAY_AMT2|PAY_AMT3|PAY_AMT4|PAY_AMT5|PAY_AMT6|DEFAULT|            features|      scaledFeatures|\n",
      "+---+---------+---+---------+--------+---+-----+-----+-----+-----+-----+-----+---------+---------+---------+---------+---------+---------+--------+--------+--------+--------+--------+--------+-------+--------------------+--------------------+\n",
      "|  1|    20000|  2|        2|       1| 24|    2|    2|    0|    0|    0|    0|     3913|     3102|      689|        0|        0|        0|       0|     689|       0|       0|       0|       0|      1|(25,[0,1,2,3,4,5,...|[-1.7319642067123...|\n",
      "|  2|   120000|  2|        2|       2| 26|    0|    2|    0|    0|    0|    2|     2682|     1725|     2682|     3272|     3455|     3261|       0|    1000|    1000|    1000|       0|    2000|      1|[2.0,120000.0,2.0...|[-1.7318487385830...|\n",
      "|  3|    90000|  2|        2|       2| 34|    0|    0|    0|    0|    0|    0|    29239|    14027|    13559|    14331|    14948|    15549|    1518|    1500|    1000|    1000|    1000|    5000|      0|[3.0,90000.0,2.0,...|[-1.7317332704536...|\n",
      "|  4|    50000|  2|        2|       1| 37|    0|    0|    0|    0|    0|    0|    46990|    48233|    49291|    28314|    28959|    29547|    2000|    2019|    1200|    1100|    1069|    1000|      0|[4.0,50000.0,2.0,...|[-1.7316178023242...|\n",
      "|  5|    50000|  1|        2|       1| 57|    0|    0|    0|    0|    0|    0|     8617|     5670|    35835|    20940|    19146|    19131|    2000|   36681|   10000|    9000|     689|     679|      0|[5.0,50000.0,1.0,...|[-1.7315023341948...|\n",
      "+---+---------+---+---------+--------+---+-----+-----+-----+-----+-----+-----+---------+---------+---------+---------+---------+---------+--------+--------+--------+--------+--------+--------+-------+--------------------+--------------------+\n",
      "only showing top 5 rows\n",
      "\n"
     ]
    }
   ],
   "source": [
    "scaledcredit.show(5)"
   ]
  },
  {
   "cell_type": "markdown",
   "metadata": {},
   "source": [
    "Creating final data set for training the model."
   ]
  },
  {
   "cell_type": "code",
   "execution_count": 34,
   "metadata": {},
   "outputs": [
    {
     "name": "stdout",
     "output_type": "stream",
     "text": [
      "+--------------------+-----+\n",
      "|            features|label|\n",
      "+--------------------+-----+\n",
      "|[-1.7319642067123...|    1|\n",
      "|[-1.7318487385830...|    1|\n",
      "|[-1.7317332704536...|    0|\n",
      "|[-1.7316178023242...|    0|\n",
      "|[-1.7315023341948...|    0|\n",
      "+--------------------+-----+\n",
      "only showing top 5 rows\n",
      "\n"
     ]
    }
   ],
   "source": [
    "renamedcredit = scaledcredit.withColumnRenamed(\"DEFAULT\", \"label\")\n",
    "Final_DS = renamedcredit.withColumn('features', renamedcredit.scaledFeatures).select(\"features\",\"label\")\n",
    "Final_DS.show(5)"
   ]
  },
  {
   "cell_type": "markdown",
   "metadata": {},
   "source": [
    "### Model training"
   ]
  },
  {
   "cell_type": "markdown",
   "metadata": {},
   "source": [
    "Dividing data into train and test sets:"
   ]
  },
  {
   "cell_type": "code",
   "execution_count": 35,
   "metadata": {},
   "outputs": [
    {
     "name": "stdout",
     "output_type": "stream",
     "text": [
      "Training Dataset Count: 23861\n",
      "Test Dataset Count: 6139\n"
     ]
    }
   ],
   "source": [
    "trainSet, testSet = Final_DS.randomSplit([0.8, 0.2], seed=12345)\n",
    "print(\"Training Dataset Count: \" + str(trainSet.count()))\n",
    "print(\"Test Dataset Count: \" + str(testSet.count()))"
   ]
  },
  {
   "cell_type": "markdown",
   "metadata": {},
   "source": [
    "### Logistic Regression"
   ]
  },
  {
   "cell_type": "code",
   "execution_count": 36,
   "metadata": {},
   "outputs": [
    {
     "name": "stdout",
     "output_type": "stream",
     "text": [
      "Training accuracy for Logistic Regression:  0.7811072461338586\n",
      "Time to train Logistic Regression model: 6.744 seconds\n"
     ]
    }
   ],
   "source": [
    "from pyspark.ml.classification import LogisticRegression\n",
    "from pyspark.ml.evaluation import BinaryClassificationEvaluator\n",
    "from time import *\n",
    "start_time = time()\n",
    "\n",
    "#Model training\n",
    "lr = LogisticRegression(featuresCol = 'features',labelCol = 'label', maxIter=10, regParam=0.3, elasticNetParam=0.8)\n",
    "lrModel = lr.fit(trainSet)\n",
    "trainingSummary = lrModel.summary\n",
    "trainaccuracy = trainingSummary.accuracy\n",
    "#print(\"Coefficients: %s\" % str(lrModel.coefficients))\n",
    "#print(\"Intercept: %s\" % str(lrModel.intercept))\n",
    "print(\"Training accuracy for Logistic Regression: \",trainaccuracy)\n",
    "\n",
    "end_time = time()\n",
    "elapsed_time = end_time - start_time\n",
    "print(\"Time to train Logistic Regression model: %.3f seconds\" % elapsed_time)"
   ]
  },
  {
   "cell_type": "code",
   "execution_count": 40,
   "metadata": {},
   "outputs": [
    {
     "data": {
      "image/png": "[encoded data removed]",
      "text/plain": [
       "<Figure size 288x288 with 1 Axes>"
      ]
     },
     "metadata": {},
     "output_type": "display_data"
    },
    {
     "name": "stdout",
     "output_type": "stream",
     "text": [
      "Train areaUnderROC for Logistic Regression: 0.5\n"
     ]
    }
   ],
   "source": [
    "#Printing ROC value and ploting ROC curve\n",
    "train_roc = trainingSummary.roc.toPandas()\n",
    "plt.figure(figsize=(4,4))\n",
    "plt.plot(train_roc['FPR'],train_roc['TPR'])\n",
    "plt.xlabel('FPR')\n",
    "plt.ylabel('TPR')\n",
    "plt.title('ROC Curve')\n",
    "plt.show()\n",
    "print(\"Train areaUnderROC for Logistic Regression: \" + str(trainingSummary.areaUnderROC))"
   ]
  },
  {
   "cell_type": "code",
   "execution_count": 41,
   "metadata": {},
   "outputs": [
    {
     "name": "stdout",
     "output_type": "stream",
     "text": [
      "+--------------------+--------------------+----------+-----+\n",
      "|            features|         probability|prediction|label|\n",
      "+--------------------+--------------------+----------+-----+\n",
      "|[-1.7315023341948...|[0.78110724613385...|       0.0|    0|\n",
      "|[-1.7311559298066...|[0.78110724613385...|       0.0|    0|\n",
      "|[-1.7310404616773...|[0.78110724613385...|       0.0|    0|\n",
      "|[-1.7302321847716...|[0.78110724613385...|       0.0|    0|\n",
      "|[-1.7301167166422...|[0.78110724613385...|       0.0|    1|\n",
      "+--------------------+--------------------+----------+-----+\n",
      "only showing top 5 rows\n",
      "\n",
      "+-----+----------+-----+\n",
      "|label|prediction|count|\n",
      "+-----+----------+-----+\n",
      "|    1|       0.0| 1413|\n",
      "|    0|       0.0| 4726|\n",
      "+-----+----------+-----+\n",
      "\n",
      "Time for prediction Logistic Regression model: 2.792 seconds\n"
     ]
    }
   ],
   "source": [
    "start_time = time()\n",
    "\n",
    "#Prediction\n",
    "predictions_lr = lrModel.transform(testSet)\n",
    "predictions_lr.select(\"features\",\"probability\",\"prediction\", \"label\").show(5)\n",
    "predictions_lr.groupBy('label','prediction').count().show()\n",
    "\n",
    "end_time = time()\n",
    "elapsed_time = end_time - start_time\n",
    "print(\"Time for prediction Logistic Regression model: %.3f seconds\" % elapsed_time)"
   ]
  },
  {
   "cell_type": "code",
   "execution_count": 42,
   "metadata": {},
   "outputs": [
    {
     "name": "stdout",
     "output_type": "stream",
     "text": [
      "Test areaUnderROC for Logistic Regression:  0.5\n",
      "Test accuracy for Logistic Regression:  0.769832220231308\n",
      "Time to evaluate Logistic Regression model: 2.747 seconds\n"
     ]
    }
   ],
   "source": [
    "#Evaluating Logistic Regression Model.\n",
    "start_time = time()\n",
    "\n",
    "lr_evaluator = lrModel.evaluate(testSet)\n",
    "lr_bc_evaluator = BinaryClassificationEvaluator()\n",
    "lr_test_roc = lr_bc_evaluator.evaluate(predictions_lr)\n",
    "print(\"Test areaUnderROC for Logistic Regression: \",lr_test_roc)\n",
    "\n",
    "\n",
    "lr_testaccuracy = lr_evaluator.accuracy\n",
    "print(\"Test accuracy for Logistic Regression: \",lr_testaccuracy)\n",
    "\n",
    "end_time = time()\n",
    "elapsed_time = end_time - start_time\n",
    "print(\"Time to evaluate Logistic Regression model: %.3f seconds\" % elapsed_time)"
   ]
  },
  {
   "cell_type": "markdown",
   "metadata": {},
   "source": [
    "### Decision Tree"
   ]
  },
  {
   "cell_type": "code",
   "execution_count": 43,
   "metadata": {},
   "outputs": [
    {
     "name": "stdout",
     "output_type": "stream",
     "text": [
      "Time to train Decission Tree model: 6.026 seconds\n"
     ]
    }
   ],
   "source": [
    "from pyspark.ml.classification import DecisionTreeClassifier\n",
    "from pyspark.ml.evaluation import MulticlassClassificationEvaluator\n",
    "\n",
    "start_time = time()\n",
    "\n",
    "#Model training\n",
    "dt = DecisionTreeClassifier(featuresCol = 'features', labelCol = 'label', maxDepth = 3)\n",
    "dtModel = dt.fit(trainSet)\n",
    "\n",
    "end_time = time()\n",
    "elapsed_time = end_time - start_time\n",
    "print(\"Time to train Decission Tree model: %.3f seconds\" % elapsed_time)"
   ]
  },
  {
   "cell_type": "code",
   "execution_count": 44,
   "metadata": {},
   "outputs": [
    {
     "name": "stdout",
     "output_type": "stream",
     "text": [
      "+--------------------+--------------------+----------+-----+\n",
      "|            features|         probability|prediction|label|\n",
      "+--------------------+--------------------+----------+-----+\n",
      "|[-1.7315023341948...|[0.85783340965755...|       0.0|    0|\n",
      "|[-1.7311559298066...|[0.85783340965755...|       0.0|    0|\n",
      "|[-1.7310404616773...|[0.85783340965755...|       0.0|    0|\n",
      "|[-1.7302321847716...|[0.63099921321793...|       0.0|    0|\n",
      "|[-1.7301167166422...|[0.85783340965755...|       0.0|    1|\n",
      "+--------------------+--------------------+----------+-----+\n",
      "only showing top 5 rows\n",
      "\n",
      "+-----+----------+-----+\n",
      "|label|prediction|count|\n",
      "+-----+----------+-----+\n",
      "|    1|       0.0|  873|\n",
      "|    0|       0.0| 4466|\n",
      "|    1|       1.0|  540|\n",
      "|    0|       1.0|  260|\n",
      "+-----+----------+-----+\n",
      "\n",
      "Time for prediction Decission Tree model: 2.463 seconds\n"
     ]
    }
   ],
   "source": [
    "start_time = time()\n",
    "\n",
    "#Prediction\n",
    "predictions_dt = dtModel.transform(testSet)\n",
    "predictions_dt.select(\"features\",\"probability\",\"prediction\", \"label\").show(5)\n",
    "predictions_dt.groupBy('label','prediction').count().show()\n",
    "\n",
    "end_time = time()\n",
    "elapsed_time = end_time - start_time\n",
    "print(\"Time for prediction Decission Tree model: %.3f seconds\" % elapsed_time)"
   ]
  },
  {
   "cell_type": "code",
   "execution_count": 45,
   "metadata": {},
   "outputs": [
    {
     "name": "stdout",
     "output_type": "stream",
     "text": [
      "Test_roc for Decission Tree: 0.3141840967091445\n",
      "Test accuracy for Decisson Tree:  0.8154422544388337\n",
      "Time to evaluate Decission Tree model: 2.231 seconds\n"
     ]
    }
   ],
   "source": [
    "#Evaluating Decission Tree Model.\n",
    "\n",
    "start_time = time()\n",
    "\n",
    "dt_bc_evaluator = BinaryClassificationEvaluator()\n",
    "dt_test_roc = dt_bc_evaluator.evaluate(predictions_dt, {dt_bc_evaluator.metricName: \"areaUnderROC\"})\n",
    "dt_evaluator = MulticlassClassificationEvaluator(labelCol=\"label\", predictionCol=\"prediction\", metricName=\"accuracy\")\n",
    "dt_testaccuracy = dt_evaluator.evaluate(predictions_dt)\n",
    "print(\"Test_roc for Decission Tree:\",dt_test_roc)\n",
    "print(\"Test accuracy for Decisson Tree: \",dt_testaccuracy )\n",
    "\n",
    "end_time = time()\n",
    "elapsed_time = end_time - start_time\n",
    "print(\"Time to evaluate Decission Tree model: %.3f seconds\" % elapsed_time)"
   ]
  },
  {
   "cell_type": "markdown",
   "metadata": {},
   "source": [
    "### Random Forest"
   ]
  },
  {
   "cell_type": "code",
   "execution_count": 46,
   "metadata": {},
   "outputs": [
    {
     "name": "stdout",
     "output_type": "stream",
     "text": [
      "Time to train Random Forest model: 5.046 seconds\n"
     ]
    }
   ],
   "source": [
    "from pyspark.ml.classification import RandomForestClassifier\n",
    "\n",
    "start_time = time()\n",
    "\n",
    "#Training\n",
    "rf = RandomForestClassifier(labelCol=\"label\", featuresCol=\"features\",numTrees=8)\n",
    "rfModel = rf.fit(trainSet)\n",
    "\n",
    "end_time = time()\n",
    "elapsed_time = end_time - start_time\n",
    "print(\"Time to train Random Forest model: %.3f seconds\" % elapsed_time)"
   ]
  },
  {
   "cell_type": "code",
   "execution_count": 47,
   "metadata": {},
   "outputs": [
    {
     "name": "stdout",
     "output_type": "stream",
     "text": [
      "+--------------------+--------------------+----------+-----+\n",
      "|            features|         probability|prediction|label|\n",
      "+--------------------+--------------------+----------+-----+\n",
      "|[-1.7315023341948...|[0.84512756533716...|       0.0|    0|\n",
      "|[-1.7311559298066...|[0.81484243820512...|       0.0|    0|\n",
      "|[-1.7310404616773...|[0.77004703033712...|       0.0|    0|\n",
      "|[-1.7302321847716...|[0.69273486365610...|       0.0|    0|\n",
      "|[-1.7301167166422...|[0.65209281351802...|       0.0|    1|\n",
      "+--------------------+--------------------+----------+-----+\n",
      "only showing top 5 rows\n",
      "\n",
      "+-----+----------+-----+\n",
      "|label|prediction|count|\n",
      "+-----+----------+-----+\n",
      "|    1|       0.0| 1031|\n",
      "|    0|       0.0| 4544|\n",
      "|    1|       1.0|  382|\n",
      "|    0|       1.0|  182|\n",
      "+-----+----------+-----+\n",
      "\n",
      "Time for prediction Random Forest model: 1.997 seconds\n"
     ]
    }
   ],
   "source": [
    "start_time = time()\n",
    "\n",
    "#prediction\n",
    "predictions_rf = rfModel.transform(testSet)\n",
    "predictions_rf.select(\"features\",\"probability\",\"prediction\", \"label\").show(5)\n",
    "predictions_rf.groupBy('label','prediction').count().show()\n",
    "\n",
    "end_time = time()\n",
    "elapsed_time = end_time - start_time\n",
    "print(\"Time for prediction Random Forest model: %.3f seconds\" % elapsed_time)"
   ]
  },
  {
   "cell_type": "code",
   "execution_count": 48,
   "metadata": {},
   "outputs": [
    {
     "name": "stdout",
     "output_type": "stream",
     "text": [
      "Test_roc for Random Forest: 0.7747711160408504\n",
      "Test accuracy for Random Forest:  0.8024108160938264\n",
      "Time to evaluate Random Forest model: 2.060 seconds\n"
     ]
    }
   ],
   "source": [
    "#Evaluating Random Forest model\n",
    "\n",
    "start_time = time()\n",
    "\n",
    "rf_bc_evaluator = BinaryClassificationEvaluator()\n",
    "rf_test_roc = rf_bc_evaluator.evaluate(predictions_rf, {rf_bc_evaluator.metricName: \"areaUnderROC\"})\n",
    "rf_evaluator = MulticlassClassificationEvaluator(labelCol=\"label\", predictionCol=\"prediction\", metricName=\"accuracy\")\n",
    "rf_testaccuracy = rf_evaluator.evaluate(predictions_rf)\n",
    "print(\"Test_roc for Random Forest:\",rf_test_roc)\n",
    "print(\"Test accuracy for Random Forest: \",rf_testaccuracy )\n",
    "\n",
    "end_time = time()\n",
    "elapsed_time = end_time - start_time\n",
    "print(\"Time to evaluate Random Forest model: %.3f seconds\" % elapsed_time)"
   ]
  },
  {
   "cell_type": "markdown",
   "metadata": {},
   "source": [
    "## Model Selection a.k.a. hyperparameter tuning"
   ]
  },
  {
   "cell_type": "markdown",
   "metadata": {},
   "source": [
    "##### For LR"
   ]
  },
  {
   "cell_type": "code",
   "execution_count": 53,
   "metadata": {},
   "outputs": [
    {
     "name": "stdout",
     "output_type": "stream",
     "text": [
      "Time to train Logistic Regression best model: 35.896 seconds\n"
     ]
    },
    {
     "data": {
      "text/plain": [
       "LogisticRegressionModel: uid = LogisticRegression_fd41965320d1, numClasses = 2, numFeatures = 25"
      ]
     },
     "execution_count": 53,
     "metadata": {},
     "output_type": "execute_result"
    }
   ],
   "source": [
    "from pyspark.ml.tuning import CrossValidator, ParamGridBuilder\n",
    "from pyspark.mllib.evaluation import BinaryClassificationMetrics\n",
    "\n",
    "start_time = time()\n",
    "\n",
    "# Creating ParamGrid for Cross Validation\n",
    "lr_paramGrid = ParamGridBuilder() \\\n",
    "    .addGrid(lr.regParam, [0.1, 0.01]) \\\n",
    "    .build()\n",
    "\n",
    "# Creating CrossValidator\n",
    "lr_crossval = CrossValidator(estimator=lr,\n",
    "                          estimatorParamMaps=lr_paramGrid,\n",
    "                          evaluator=BinaryClassificationEvaluator(),\n",
    "                          numFolds=10)\n",
    "\n",
    "# Run cross validations\n",
    "lr_cvModel = lr_crossval.fit(trainSet)\n",
    "\n",
    "end_time = time()\n",
    "elapsed_time = end_time - start_time\n",
    "print(\"Time to train Logistic Regression best model: %.3f seconds\" % elapsed_time)\n",
    "\n",
    "lr_cvModel.bestModel"
   ]
  },
  {
   "cell_type": "code",
   "execution_count": 54,
   "metadata": {
    "scrolled": true
   },
   "outputs": [
    {
     "name": "stdout",
     "output_type": "stream",
     "text": [
      "+--------------------+--------------------+----------+-----+\n",
      "|            features|         probability|prediction|label|\n",
      "+--------------------+--------------------+----------+-----+\n",
      "|[-1.7315023341948...|[0.83971676529429...|       0.0|    0|\n",
      "|[-1.7311559298066...|[0.85090943860679...|       0.0|    0|\n",
      "|[-1.7310404616773...|[0.81287756661542...|       0.0|    0|\n",
      "|[-1.7302321847716...|[0.69323792065982...|       0.0|    0|\n",
      "|[-1.7301167166422...|[0.69426190085287...|       0.0|    1|\n",
      "+--------------------+--------------------+----------+-----+\n",
      "only showing top 5 rows\n",
      "\n",
      "+-----+----------+-----+\n",
      "|label|prediction|count|\n",
      "+-----+----------+-----+\n",
      "|    1|       0.0|  957|\n",
      "|    0|       0.0| 4522|\n",
      "|    1|       1.0|  456|\n",
      "|    0|       1.0|  204|\n",
      "+-----+----------+-----+\n",
      "\n",
      "Time for predicting Logistic Regression best model: 1.534 seconds\n"
     ]
    }
   ],
   "source": [
    "start_time = time()\n",
    "\n",
    "#Performing predictions\n",
    "predictions_lr = lr_cvModel.transform(testSet)\n",
    "predictions_lr.select(\"features\",\"probability\", \"prediction\", \"label\").show(5)\n",
    "predictions_lr.groupBy('label','prediction').count().show()\n",
    "\n",
    "end_time = time()\n",
    "elapsed_time = end_time - start_time\n",
    "print(\"Time for predicting Logistic Regression best model: %.3f seconds\" % elapsed_time)"
   ]
  },
  {
   "cell_type": "code",
   "execution_count": 55,
   "metadata": {},
   "outputs": [
    {
     "name": "stdout",
     "output_type": "stream",
     "text": [
      "Test_roc for Logistic Regression best model: 0.761505969446995\n",
      "Test accuracy for Logistic Regression best model:  0.8108812510180812\n",
      "Time for evaluating Logistic Regression best model: 1.486 seconds\n"
     ]
    }
   ],
   "source": [
    "start_time = time()\n",
    "\n",
    "#Evaluating Model\n",
    "lr_cv_evaluator = BinaryClassificationEvaluator()\n",
    "lr_test_roc = lr_cv_evaluator.evaluate(predictions_lr, {lr_cv_evaluator.metricName: \"areaUnderROC\"})\n",
    "print(\"Test_roc for Logistic Regression best model:\",lr_test_roc)\n",
    "\n",
    "lr_evaluator = MulticlassClassificationEvaluator(labelCol=\"label\", predictionCol=\"prediction\", metricName=\"accuracy\")\n",
    "lr_testaccuracy = lr_evaluator.evaluate(predictions_lr)\n",
    "print(\"Test accuracy for Logistic Regression best model: \",lr_testaccuracy )\n",
    "\n",
    "end_time = time()\n",
    "elapsed_time = end_time - start_time\n",
    "print(\"Time for evaluating Logistic Regression best model: %.3f seconds\" % elapsed_time)"
   ]
  },
  {
   "cell_type": "markdown",
   "metadata": {},
   "source": [
    "##### For RF"
   ]
  },
  {
   "cell_type": "code",
   "execution_count": 56,
   "metadata": {},
   "outputs": [
    {
     "name": "stdout",
     "output_type": "stream",
     "text": [
      "Time to train Random Forest best model: 239.636 seconds\n"
     ]
    },
    {
     "data": {
      "text/plain": [
       "RandomForestClassificationModel (uid=RandomForestClassifier_88772c47d91f) with 8 trees"
      ]
     },
     "execution_count": 56,
     "metadata": {},
     "output_type": "execute_result"
    }
   ],
   "source": [
    "start_time = time()\n",
    "\n",
    "# Creating ParamGrid for Cross Validation\n",
    "rf_paramGrid = ParamGridBuilder()\\\n",
    "   .addGrid(rf.maxDepth, [1, 2, 4, 5])\\\n",
    "   .addGrid(rf.minInstancesPerNode, [1, 2, 4, 5])\\\n",
    "   .build()\n",
    "\n",
    "rf_cv_evaluator = BinaryClassificationEvaluator()\n",
    "\n",
    "# Creating CrossValidator\n",
    "rf_crossval = CrossValidator(estimator = rf,\n",
    "                          estimatorParamMaps = rf_paramGrid,\n",
    "                          evaluator = rf_cv_evaluator,\n",
    "                          numFolds = 10)\n",
    "\n",
    "# Run cross validations\n",
    "rf_cvModel = rf_crossval.fit(trainSet)\n",
    "\n",
    "end_time = time()\n",
    "elapsed_time = end_time - start_time\n",
    "print(\"Time to train Random Forest best model: %.3f seconds\" % elapsed_time)\n",
    "\n",
    "rf_cvModel.bestModel"
   ]
  },
  {
   "cell_type": "code",
   "execution_count": 57,
   "metadata": {},
   "outputs": [
    {
     "name": "stdout",
     "output_type": "stream",
     "text": [
      "+--------------------+--------------------+----------+-----+\n",
      "|            features|         probability|prediction|label|\n",
      "+--------------------+--------------------+----------+-----+\n",
      "|[-1.7315023341948...|[0.84881217540817...|       0.0|    0|\n",
      "|[-1.7311559298066...|[0.84214309941368...|       0.0|    0|\n",
      "|[-1.7310404616773...|[0.79268043442095...|       0.0|    0|\n",
      "|[-1.7302321847716...|[0.71635824971153...|       0.0|    0|\n",
      "|[-1.7301167166422...|[0.68446466013504...|       0.0|    1|\n",
      "+--------------------+--------------------+----------+-----+\n",
      "only showing top 5 rows\n",
      "\n",
      "+-----+----------+-----+\n",
      "|label|prediction|count|\n",
      "+-----+----------+-----+\n",
      "|    1|       0.0| 1023|\n",
      "|    0|       0.0| 4557|\n",
      "|    1|       1.0|  390|\n",
      "|    0|       1.0|  169|\n",
      "+-----+----------+-----+\n",
      "\n",
      "Time for predicting Random Forest best model: 1.331 seconds\n"
     ]
    }
   ],
   "source": [
    "start_time = time()\n",
    "\n",
    "#Performing predictions\n",
    "predictions_rf = rf_cvModel.transform(testSet)\n",
    "predictions_rf.select(\"features\", \"probability\", \"prediction\",\"label\").show(5)\n",
    "predictions_rf.groupBy('label','prediction').count().show()\n",
    "\n",
    "end_time = time()\n",
    "elapsed_time = end_time - start_time\n",
    "print(\"Time for predicting Random Forest best model: %.3f seconds\" % elapsed_time)"
   ]
  },
  {
   "cell_type": "code",
   "execution_count": 58,
   "metadata": {},
   "outputs": [
    {
     "name": "stdout",
     "output_type": "stream",
     "text": [
      "Test_roc for Random Forest best model: 0.7707972999644496\n",
      "Test accuracy for Random Forest best model:  0.8058315686593908\n",
      "Time for evaluating Random Forest best model: 1.123 seconds\n"
     ]
    }
   ],
   "source": [
    "start_time = time()\n",
    "\n",
    "#Evaluating model\n",
    "rf_test_roc = rf_cv_evaluator.evaluate(predictions_rf, {rf_cv_evaluator.metricName: \"areaUnderROC\"})\n",
    "print(\"Test_roc for Random Forest best model:\",rf_test_roc)\n",
    "\n",
    "rf_evaluator = MulticlassClassificationEvaluator(labelCol=\"label\", predictionCol=\"prediction\",metricName=\"accuracy\")\n",
    "rf_testaccuracy = rf_evaluator.evaluate(predictions_rf)\n",
    "print(\"Test accuracy for Random Forest best model: \",rf_testaccuracy )\n",
    "\n",
    "end_time = time()\n",
    "elapsed_time = end_time - start_time\n",
    "print(\"Time for evaluating Random Forest best model: %.3f seconds\" % elapsed_time)"
   ]
  },
  {
   "cell_type": "markdown",
   "metadata": {},
   "source": [
    "### Working with imbalanced target variable\n",
    "Since the classes in our target variable is imbalanced we need to deal with so that the model is not biased to a single class.\n",
    "This can be delt by assigning weights to the classes."
   ]
  },
  {
   "cell_type": "code",
   "execution_count": 49,
   "metadata": {},
   "outputs": [],
   "source": [
    "from pyspark.sql.functions import when\n",
    "ratio = 0.85\n",
    "def assigning_weights(default):\n",
    "    return when(default == 1, ratio).otherwise(1*(1-ratio))\n",
    "credit_4 = credit_3.withColumn('weights', assigning_weights(F.col('DEFAULT')))"
   ]
  },
  {
   "cell_type": "code",
   "execution_count": 51,
   "metadata": {},
   "outputs": [
    {
     "data": {
      "text/html": [
       "<div>\n",
       "<style scoped>\n",
       "    .dataframe tbody tr th:only-of-type {\n",
       "        vertical-align: middle;\n",
       "    }\n",
       "\n",
       "    .dataframe tbody tr th {\n",
       "        vertical-align: top;\n",
       "    }\n",
       "\n",
       "    .dataframe thead th {\n",
       "        text-align: right;\n",
       "    }\n",
       "</style>\n",
       "<table border=\"1\" class=\"dataframe\">\n",
       "  <thead>\n",
       "    <tr style=\"text-align: right;\">\n",
       "      <th></th>\n",
       "      <th>weights</th>\n",
       "      <th>DEFAULT</th>\n",
       "    </tr>\n",
       "  </thead>\n",
       "  <tbody>\n",
       "    <tr>\n",
       "      <th>0</th>\n",
       "      <td>0.85</td>\n",
       "      <td>1</td>\n",
       "    </tr>\n",
       "    <tr>\n",
       "      <th>1</th>\n",
       "      <td>0.85</td>\n",
       "      <td>1</td>\n",
       "    </tr>\n",
       "    <tr>\n",
       "      <th>2</th>\n",
       "      <td>0.15</td>\n",
       "      <td>0</td>\n",
       "    </tr>\n",
       "    <tr>\n",
       "      <th>3</th>\n",
       "      <td>0.15</td>\n",
       "      <td>0</td>\n",
       "    </tr>\n",
       "    <tr>\n",
       "      <th>4</th>\n",
       "      <td>0.15</td>\n",
       "      <td>0</td>\n",
       "    </tr>\n",
       "    <tr>\n",
       "      <th>...</th>\n",
       "      <td>...</td>\n",
       "      <td>...</td>\n",
       "    </tr>\n",
       "    <tr>\n",
       "      <th>29995</th>\n",
       "      <td>0.15</td>\n",
       "      <td>0</td>\n",
       "    </tr>\n",
       "    <tr>\n",
       "      <th>29996</th>\n",
       "      <td>0.15</td>\n",
       "      <td>0</td>\n",
       "    </tr>\n",
       "    <tr>\n",
       "      <th>29997</th>\n",
       "      <td>0.85</td>\n",
       "      <td>1</td>\n",
       "    </tr>\n",
       "    <tr>\n",
       "      <th>29998</th>\n",
       "      <td>0.85</td>\n",
       "      <td>1</td>\n",
       "    </tr>\n",
       "    <tr>\n",
       "      <th>29999</th>\n",
       "      <td>0.85</td>\n",
       "      <td>1</td>\n",
       "    </tr>\n",
       "  </tbody>\n",
       "</table>\n",
       "<p>30000 rows × 2 columns</p>\n",
       "</div>"
      ],
      "text/plain": [
       "       weights  DEFAULT\n",
       "0         0.85        1\n",
       "1         0.85        1\n",
       "2         0.15        0\n",
       "3         0.15        0\n",
       "4         0.15        0\n",
       "...        ...      ...\n",
       "29995     0.15        0\n",
       "29996     0.15        0\n",
       "29997     0.85        1\n",
       "29998     0.85        1\n",
       "29999     0.85        1\n",
       "\n",
       "[30000 rows x 2 columns]"
      ]
     },
     "execution_count": 51,
     "metadata": {},
     "output_type": "execute_result"
    }
   ],
   "source": [
    "credit_4.select(\"weights\",\"DEFAULT\").toPandas()"
   ]
  },
  {
   "cell_type": "markdown",
   "metadata": {},
   "source": [
    "### Scaling features"
   ]
  },
  {
   "cell_type": "code",
   "execution_count": 52,
   "metadata": {},
   "outputs": [
    {
     "name": "stdout",
     "output_type": "stream",
     "text": [
      "+--------------------+--------------------+\n",
      "|            features|      scaledFeatures|\n",
      "+--------------------+--------------------+\n",
      "|(26,[0,1,2,3,4,5,...|[-1.7319642067123...|\n",
      "|[2.0,120000.0,2.0...|[-1.7318487385830...|\n",
      "|[3.0,90000.0,2.0,...|[-1.7317332704536...|\n",
      "|[4.0,50000.0,2.0,...|[-1.7316178023242...|\n",
      "|[5.0,50000.0,1.0,...|[-1.7315023341948...|\n",
      "+--------------------+--------------------+\n",
      "only showing top 5 rows\n",
      "\n"
     ]
    }
   ],
   "source": [
    "assembler = VectorAssembler(inputCols=['ID','LIMIT_BAL','SEX','EDUCATION','MARRIAGE','AGE','PAY_0','PAY_2','PAY_3','PAY_4',\n",
    "'PAY_5','PAY_6','BILL_AMT1','BILL_AMT2','BILL_AMT3','BILL_AMT4','BILL_AMT5','BILL_AMT6','PAY_AMT1','PAY_AMT1',\n",
    "'PAY_AMT2','PAY_AMT3','PAY_AMT4','PAY_AMT5','PAY_AMT6','weights'], outputCol=\"features\")\n",
    "\n",
    "featuredcredit = assembler.transform(credit_4)\n",
    "\n",
    "scaler = StandardScaler(withMean=True, withStd=True, inputCol=\"features\", outputCol=\"scaledFeatures\")\n",
    "\n",
    "# Fitting StandardScaler\n",
    "scalerModel = scaler.fit(featuredcredit)\n",
    "\n",
    "# Scaling the dataset.\n",
    "scaledcredit = scalerModel.transform(featuredcredit)\n",
    "scaledcredit.select([\"features\", \"scaledFeatures\"]).show(5)"
   ]
  },
  {
   "cell_type": "markdown",
   "metadata": {},
   "source": [
    "### Creating final dataset"
   ]
  },
  {
   "cell_type": "code",
   "execution_count": 53,
   "metadata": {},
   "outputs": [
    {
     "name": "stdout",
     "output_type": "stream",
     "text": [
      "+--------------------+-----+\n",
      "|            features|label|\n",
      "+--------------------+-----+\n",
      "|[-1.7319642067123...|    1|\n",
      "|[-1.7318487385830...|    1|\n",
      "|[-1.7317332704536...|    0|\n",
      "|[-1.7316178023242...|    0|\n",
      "|[-1.7315023341948...|    0|\n",
      "+--------------------+-----+\n",
      "only showing top 5 rows\n",
      "\n"
     ]
    }
   ],
   "source": [
    "renamedcredit_1 = scaledcredit.withColumnRenamed(\"DEFAULT\", \"label\")\n",
    "Final_DS_1 = renamedcredit_1.withColumn('features', renamedcredit_1.scaledFeatures).select(\"features\",\"label\")\n",
    "Final_DS_1.show(5)"
   ]
  },
  {
   "cell_type": "markdown",
   "metadata": {},
   "source": [
    "### Spliting data for training and testing"
   ]
  },
  {
   "cell_type": "code",
   "execution_count": 54,
   "metadata": {},
   "outputs": [
    {
     "name": "stdout",
     "output_type": "stream",
     "text": [
      "Training Dataset Count: 23861\n",
      "Test Dataset Count: 6139\n"
     ]
    }
   ],
   "source": [
    "trainSet, testSet = Final_DS_1.randomSplit([0.8, 0.2], seed=12345)\n",
    "print(\"Training Dataset Count: \" + str(trainSet.count()))\n",
    "print(\"Test Dataset Count: \" + str(testSet.count()))"
   ]
  },
  {
   "cell_type": "markdown",
   "metadata": {},
   "source": [
    "### Logistic Regression on balanced target variable data"
   ]
  },
  {
   "cell_type": "code",
   "execution_count": 57,
   "metadata": {},
   "outputs": [
    {
     "name": "stdout",
     "output_type": "stream",
     "text": [
      "Training accuracy for Logistic Regression on weighted target variable:  0.7811072461338586\n"
     ]
    },
    {
     "data": {
      "image/png": "[encoded data removed]",
      "text/plain": [
       "<Figure size 360x360 with 1 Axes>"
      ]
     },
     "metadata": {},
     "output_type": "display_data"
    },
    {
     "name": "stdout",
     "output_type": "stream",
     "text": [
      "Train areaUnderROC for Logistic Regression on weighted target variable: 1.0\n",
      "+--------------------+--------------------+----------+-----+\n",
      "|            features|         probability|prediction|label|\n",
      "+--------------------+--------------------+----------+-----+\n",
      "|[-1.7315023341948...|[0.85156346063794...|       0.0|    0|\n",
      "|[-1.7311559298066...|[0.85156346063794...|       0.0|    0|\n",
      "|[-1.7310404616773...|[0.85156346063794...|       0.0|    0|\n",
      "|[-1.7302321847716...|[0.85156346063794...|       0.0|    0|\n",
      "|[-1.7301167166422...|[0.52969590339367...|       0.0|    1|\n",
      "+--------------------+--------------------+----------+-----+\n",
      "only showing top 5 rows\n",
      "\n",
      "+-----+----------+-----+\n",
      "|label|prediction|count|\n",
      "+-----+----------+-----+\n",
      "|    1|       0.0| 1413|\n",
      "|    0|       0.0| 4726|\n",
      "+-----+----------+-----+\n",
      "\n",
      "Test areaUnderROC for Logistic Regression on weighted target variable:  1.0\n",
      "Test accuracy for Logistic Regression on weighted target variable:  0.769832220231308\n"
     ]
    }
   ],
   "source": [
    "lr = LogisticRegression(featuresCol = 'features',labelCol = 'label', maxIter=10, regParam=0.3, elasticNetParam=0.8)\n",
    "lrModel = lr.fit(trainSet)\n",
    "trainingSummary = lrModel.summary\n",
    "trainaccuracy = trainingSummary.accuracy\n",
    "#print(\"Coefficients: %s\" % str(lrModel.coefficients))\n",
    "#print(\"Intercept: %s\" % str(lrModel.intercept))\n",
    "print(\"Training accuracy for Logistic Regression on weighted target variable: \",trainaccuracy)\n",
    "\n",
    "\n",
    "train_roc = trainingSummary.roc.toPandas()\n",
    "plt.figure(figsize=(5,5))\n",
    "plt.plot(train_roc['FPR'],train_roc['TPR'])\n",
    "plt.xlabel('FPR')\n",
    "plt.ylabel('TPR')\n",
    "plt.title('ROC Curve')\n",
    "plt.show()\n",
    "print(\"Train areaUnderROC for Logistic Regression on weighted target variable: \" + str(trainingSummary.areaUnderROC))\n",
    "\n",
    "predictions = lrModel.transform(testSet)\n",
    "predictions.select(\"features\",\"probability\",\"prediction\", \"label\").show(5)\n",
    "predictions.groupBy('label','prediction').count().show()\n",
    "\n",
    "evaluator = lrModel.evaluate(testSet)\n",
    "bc_evaluator = BinaryClassificationEvaluator()\n",
    "test_roc = bc_evaluator.evaluate(predictions)\n",
    "print(\"Test areaUnderROC for Logistic Regression on weighted target variable: \",test_roc)\n",
    "\n",
    "testaccuracy = evaluator.accuracy\n",
    "print(\"Test accuracy for Logistic Regression on weighted target variable: \",testaccuracy)"
   ]
  },
  {
   "cell_type": "markdown",
   "metadata": {},
   "source": [
    "### Decission tree for balanced target variable data"
   ]
  },
  {
   "cell_type": "code",
   "execution_count": 58,
   "metadata": {},
   "outputs": [
    {
     "name": "stdout",
     "output_type": "stream",
     "text": [
      "+--------------------+-----------+----------+-----+\n",
      "|            features|probability|prediction|label|\n",
      "+--------------------+-----------+----------+-----+\n",
      "|[-1.7315023341948...|  [1.0,0.0]|       0.0|    0|\n",
      "|[-1.7311559298066...|  [1.0,0.0]|       0.0|    0|\n",
      "|[-1.7310404616773...|  [1.0,0.0]|       0.0|    0|\n",
      "|[-1.7302321847716...|  [1.0,0.0]|       0.0|    0|\n",
      "|[-1.7301167166422...|  [0.0,1.0]|       1.0|    1|\n",
      "+--------------------+-----------+----------+-----+\n",
      "only showing top 5 rows\n",
      "\n",
      "+-----+----------+-----+\n",
      "|label|prediction|count|\n",
      "+-----+----------+-----+\n",
      "|    0|       0.0| 4726|\n",
      "|    1|       1.0| 1413|\n",
      "+-----+----------+-----+\n",
      "\n",
      "Test_roc for Decision tree on weighted target variable: 1.0\n",
      "Test accuracy for Decision tree on weighted target variable:  1.0\n"
     ]
    }
   ],
   "source": [
    "dt = DecisionTreeClassifier(featuresCol = 'features', labelCol = 'label', maxDepth = 3)\n",
    "dtModel = dt.fit(trainSet)\n",
    "\n",
    "\n",
    "predictions = dtModel.transform(testSet)\n",
    "predictions.select(\"features\",\"probability\",\"prediction\", \"label\").show(5)\n",
    "predictions.groupBy('label','prediction').count().show()\n",
    "\n",
    "bc_evaluator = BinaryClassificationEvaluator()\n",
    "test_roc = bc_evaluator.evaluate(predictions, {bc_evaluator.metricName: \"areaUnderROC\"})\n",
    "evaluator = MulticlassClassificationEvaluator(labelCol=\"label\", predictionCol=\"prediction\", metricName=\"accuracy\")\n",
    "testaccuracy = evaluator.evaluate(predictions)\n",
    "print(\"Test_roc for Decision tree on weighted target variable:\",test_roc)\n",
    "print(\"Test accuracy for Decision tree on weighted target variable: \",testaccuracy )"
   ]
  },
  {
   "cell_type": "markdown",
   "metadata": {},
   "source": [
    "### Random forest for balanced target variable data"
   ]
  },
  {
   "cell_type": "code",
   "execution_count": 59,
   "metadata": {},
   "outputs": [
    {
     "name": "stdout",
     "output_type": "stream",
     "text": [
      "+--------------------+--------------------+----------+-----+\n",
      "|            features|         probability|prediction|label|\n",
      "+--------------------+--------------------+----------+-----+\n",
      "|[-1.7315023341948...|[0.96270837699876...|       0.0|    0|\n",
      "|[-1.7311559298066...|[0.97692174515235...|       0.0|    0|\n",
      "|[-1.7310404616773...|[0.95283742331288...|       0.0|    0|\n",
      "|[-1.7302321847716...|[0.94577735124760...|       0.0|    0|\n",
      "|[-1.7301167166422...|[0.35909900622357...|       1.0|    1|\n",
      "+--------------------+--------------------+----------+-----+\n",
      "only showing top 5 rows\n",
      "\n",
      "+-----+----------+-----+\n",
      "|label|prediction|count|\n",
      "+-----+----------+-----+\n",
      "|    0|       0.0| 4726|\n",
      "|    1|       1.0| 1413|\n",
      "+-----+----------+-----+\n",
      "\n",
      "Test_roc for Random forest on weighted target variable: 1.0\n",
      "Test accuracy for Random forest on weighted target variable:  1.0\n"
     ]
    }
   ],
   "source": [
    "rf = RandomForestClassifier(labelCol=\"label\", featuresCol=\"features\",numTrees=8)\n",
    "rfModel = rf.fit(trainSet)\n",
    "\n",
    "predictions = rfModel.transform(testSet)\n",
    "predictions.select(\"features\",\"probability\",\"prediction\", \"label\").show(5)\n",
    "predictions.groupBy('label','prediction').count().show()\n",
    "\n",
    "bc_evaluator = BinaryClassificationEvaluator()\n",
    "test_roc = bc_evaluator.evaluate(predictions, {bc_evaluator.metricName: \"areaUnderROC\"})\n",
    "evaluator = MulticlassClassificationEvaluator(labelCol=\"label\", predictionCol=\"prediction\", metricName=\"accuracy\")\n",
    "testaccuracy = evaluator.evaluate(predictions)\n",
    "print(\"Test_roc for Random forest on weighted target variable:\",test_roc)\n",
    "print(\"Test accuracy for Random forest on weighted target variable: \",testaccuracy )"
   ]
  },
  {
   "cell_type": "code",
   "execution_count": null,
   "metadata": {},
   "outputs": [],
   "source": []
  },
  {
   "cell_type": "code",
   "execution_count": null,
   "metadata": {},
   "outputs": [],
   "source": []
  }
 ],
 "metadata": {
  "kernelspec": {
   "display_name": "Python 3",
   "language": "python",
   "name": "python3"
  },
  "language_info": {
   "codemirror_mode": {
    "name": "ipython",
    "version": 3
   },
   "file_extension": ".py",
   "mimetype": "text/x-python",
   "name": "python",
   "nbconvert_exporter": "python",
   "pygments_lexer": "ipython3",
   "version": "3.7.5"
  }
 },
 "nbformat": 4,
 "nbformat_minor": 4
}
